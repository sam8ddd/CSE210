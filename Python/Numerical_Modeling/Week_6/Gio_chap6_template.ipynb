{
 "cells": [
  {
   "cell_type": "code",
   "execution_count": 1,
   "metadata": {},
   "outputs": [
    {
     "ename": "IndentationError",
     "evalue": "expected an indented block (<ipython-input-1-a350c765589e>, line 23)",
     "output_type": "error",
     "traceback": [
      "\u001b[0;36m  File \u001b[0;32m\"<ipython-input-1-a350c765589e>\"\u001b[0;36m, line \u001b[0;32m23\u001b[0m\n\u001b[0;31m    def getOptimalOmega(self):\u001b[0m\n\u001b[0m    ^\u001b[0m\n\u001b[0;31mIndentationError\u001b[0m\u001b[0;31m:\u001b[0m expected an indented block\n"
     ]
    }
   ],
   "source": [
    "class Wave: #or Poisson\n",
    "\n",
    "    ## The initializer should receive \n",
    "    ## - the domain bondaries: xmin, xmax, dx, dt,tMax, waveSpeed\n",
    "    def __init__(self,a,b,dx,tau,tMax,stabilityCheck = False,variableMu = False, T = 1, c = 2):\n",
    "        from numpy import arange\n",
    "        # Save important variables for use later\n",
    "        # define self.x, which holds a discrete grid of x values. Needed for plotting\n",
    "\n",
    "\n",
    "        # Maybe check to see if you are going to have an instability here.\n",
    "\n",
    "\n",
    "    # Initialize self.y to be the initial wave form.  Make sure you plot this\n",
    "    # before moving on to make sure you did it right.\n",
    "    def initializeWave(self):\n",
    "\n",
    "\n",
    "    def animate(self):\n",
    "        from numpy import zeros_like,copy\n",
    "        from matplotlib import pyplot\n",
    "        # Define constant c^2 tau^2/h^2\n",
    "\n",
    "        # Define yOld to be a copy of self.y\n",
    "        # initialize time \n",
    "        # initialize counter  \n",
    "        while t < self.tMax:\n",
    "            # initialize yNew to be zeros but same size as self.y\n",
    "            # Use main equation to update interior points\n",
    "            # Apply boundary conditions\n",
    "\n",
    "            # plot this snapshot\n",
    "            if counter % 10 == 0:\n",
    "                pyplot.plot(self.x,self.y,'r.-')\n",
    "                pyplot.ylim(-1,1)\n",
    "                pyplot.draw()\n",
    "                pyplot.pause(.000001)\n",
    "                pyplot.clf()\n",
    "\n",
    "\n",
    "            # Set yOld to be a copy of self.y\n",
    "            # set self.y to be a copy of yNew\n",
    "\n",
    "            # Increment time\n",
    "            # Increment counter\n"
   ]
  }
 ],
 "metadata": {
  "kernelspec": {
   "display_name": "Python 3 (ipykernel)",
   "language": "python",
   "name": "python3"
  },
  "language_info": {
   "codemirror_mode": {
    "name": "ipython",
    "version": 3
   },
   "file_extension": ".py",
   "mimetype": "text/x-python",
   "name": "python",
   "nbconvert_exporter": "python",
   "pygments_lexer": "ipython3",
   "version": "3.9.13"
  }
 },
 "nbformat": 4,
 "nbformat_minor": 4
}
