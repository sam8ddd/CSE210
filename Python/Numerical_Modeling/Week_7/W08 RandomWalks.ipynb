{
 "cells": [
  {
   "cell_type": "markdown",
   "metadata": {},
   "source": [
    "# Overview\n",
    "Many systems of interest involve exceedingly many particles.  For example, the diffusion of perfume particles involves the complicated motion of a number of particles on the order of Avogadro's number.  The mere thought of using Newton's laws to model the motion of all of these particles is unthinkable.  (your computer probably doesn't even have enough memory to store the locations of that many particles)  However, we can gain much insight into systems like these by modeling the motion of the particles using a random walk.    Topics for today include:\n",
    "\n",
    "\n",
    "1. Random numbers in Python. (bonus: list comprehension)\n",
    "2. One-dimensional random walks.\n",
    "3. Self-avoiding walks. (SAWs)\n",
    "\n",
    "\n",
    "### Random Numbers in Python\n",
    "\n",
    "Python libraries for generating random numbers are readily available.  Below you will find some examples.\n",
    "\n",
    "\n",
    "1. <span style=\"color:red\">By adding print statements and observing outputs, determine what each function below does. </span>\n",
    "2. <span style=\"color:red\">Add a detailed comment to help you for future use. </span>\n",
    "\n",
    "\n"
   ]
  },
  {
   "cell_type": "code",
   "execution_count": 5,
   "metadata": {},
   "outputs": [
    {
     "name": "stdout",
     "output_type": "stream",
     "text": [
      "a: [0.7360924  0.79461089 0.70437572]\n",
      "b: [[0.705645   0.17748276 0.57034929 0.78710273]\n",
      " [0.42064605 0.77513629 0.69045714 0.23805444]\n",
      " [0.57056958 0.56265684 0.96238453 0.43707565]]\n",
      "c: [2 3 4 4 1]\n",
      "d: [ 0.08435969  0.87182458 -0.05009173 -1.802623    0.81792144  0.4944056 ]\n",
      "e: C++\n"
     ]
    }
   ],
   "source": [
    "from numpy.random import random,randint,randn,choice\n",
    "\n",
    "a = random(3) # make a 3-length array full of random numbers between 0 and 1\n",
    "b = random([3,4]) # make a 3x4 (3 rows, 4 columns) array of random numbers between 0 and 1\n",
    "c = randint(0,10,5) # generates 5 numbers between 0 and 10, stored in an array\n",
    "d = randn(6) # generates 6 numbers from a gaussian distribution with a mean of 0 and standard deviation of 1\n",
    "e = choice([\"Julia\", \"Python\", \"C++\"]) # randomly picks one of the three to produce\n",
    "print('a:',a)\n",
    "print('b:',b)\n",
    "print('c:',c)\n",
    "print('d:',d)\n",
    "print('e:',e)"
   ]
  },
  {
   "cell_type": "markdown",
   "metadata": {},
   "source": [
    "### List Comprehension\n",
    "\n",
    "As a side note, I want to mention something called list comprehension in Python.  List comprehension combines loops and lists into a single statement, and they turn out to be pretty handy occassionally.  The cell below gives an example:\n",
    "\n",
    "\n",
    "1. <span style=\"color:red\">Study the code and the output until you understand fully.   </span>\n",
    "2. <span style=\"color:red\"> Add comments to help you remember.  </span>\n",
    "3. <span style=\"color:red\"> Use list comprehension to find all numbers $x < 100$ that are multiples of both 3 and 7. (Hint: There are four of them.) </span>"
   ]
  },
  {
   "cell_type": "code",
   "execution_count": 9,
   "metadata": {},
   "outputs": [
    {
     "name": "stdout",
     "output_type": "stream",
     "text": [
      "b: [False, False, True, False, False, True, False, True, False, True]\n",
      "c: [0.5296608565396054, 0.31646792967262893, 0.6044579788961789, 0.01199805765066142, 0.2835079455871127, 0.03628463908256885]\n",
      "d: [0.5296608565396054, 0.31646792967262893, 0.6044579788961789, 0.2835079455871127]\n",
      "e: [0, 0.5296608565396054, 0.31646792967262893, 0.6044579788961789, 0, 0, 0, 0.2835079455871127, 0, 0]\n"
     ]
    }
   ],
   "source": [
    "a = random(10)\n",
    "\n",
    "b = [x < 0.5 for x in a] # return whether each value is less than 1/2\n",
    "\n",
    "c = [x for x in a if x < 0.75 ] # keep only the values less than 0.75\n",
    "\n",
    "d = [x for x in a if x < 0.75 and x > 0.25] # keep only values between 0.25 and 0.75\n",
    "\n",
    "e = [x if x < 0.75 and x > 0.25 else 0 for x in a ] # turns values that are outside of the 0.25~0.75 range to 0\n",
    "\n",
    "print('b:',b)\n",
    "print('c:',c)\n",
    "print('d:',d)\n",
    "print('e:',e)\n"
   ]
  },
  {
   "cell_type": "markdown",
   "metadata": {},
   "source": [
    "## Random Walks\n",
    "\n",
    "Let's start simple and consider a one-dimensional random walk. We'll assume that the length of each step is fixed at 1 and the only thing random about the walk is the direction. (right or left.)   Let's write a code that performs a random walk for 100 steps and see where it ends up.  The code below has two implementations of this algorithm: one rather brute-force and not elegant, and the other very succinct and speedy.\n",
    "\n",
    "\n",
    "1. <span style=\"color:red\">Execute the cell and interpret the output. </span>\n",
    "2. <span style=\"color:red\"> Study the code until you understand what each line does.  </span>\n",
    "3. <span style=\"color:red\"> Add comments to help you remember.  </span>\n",
    "\n"
   ]
  },
  {
   "cell_type": "code",
   "execution_count": 2,
   "metadata": {},
   "outputs": [
    {
     "name": "stdout",
     "output_type": "stream",
     "text": [
      "-20\n",
      "2\n"
     ]
    }
   ],
   "source": [
    "from numpy.random import random,choice\n",
    "from numpy import cumsum\n",
    "\n",
    "#Method 1\n",
    "myWalker = [0] # start at 0\n",
    "for i in range(100): # for 100 steps\n",
    "    a = random() # pick a random number\n",
    "    if a < 0.5:\n",
    "        myWalker.append(myWalker[-1] + 1) # 50% chance to walk to the right\n",
    "    else:\n",
    "        myWalker.append(myWalker[-1] - 1) # 50% chance to walk to the left\n",
    "        \n",
    "        \n",
    "# Method 2\n",
    "walker = cumsum(choice([-1,1],100)) # the cumulative sum of making 100 choices between -1 and 1\n",
    "\n",
    "print(walker[-1])\n",
    "print(myWalker[-1])"
   ]
  },
  {
   "cell_type": "markdown",
   "metadata": {},
   "source": [
    "The code above performed **a single** random walk.  To get any meaningful results, we should perform **many** random walks and average over them all.  \n",
    "\n",
    "1. <span style=\"color:red\"> Using the code above as a starting point, write a code that performs 500 random walks in one-dimension.  </span>\n",
    "2. <span style=\"color:red\"> Compute the mean square displacement $\\langle x^2\\rangle$ over all walkers (numpy arrays will be your friend) and re-create figure 7.3 b. You should notice that the relationship between  $\\langle x^2\\rangle$ and number of steps is **linear**, which is not what would happen if the particle diffused at constant speed.</span>\n",
    "3. <span style=\"color:red\"> Modify your code so that the probability of a right step is not equal to the probability of a left step.  This is called a biased random walk.  Do your results make sense?  </span>\n",
    "\n",
    "\n",
    "\n"
   ]
  },
  {
   "cell_type": "code",
   "execution_count": 13,
   "metadata": {},
   "outputs": [
    {
     "data": {
      "image/png": "[encoded data removed]",
      "text/plain": [
       "<Figure size 640x480 with 1 Axes>"
      ]
     },
     "metadata": {},
     "output_type": "display_data"
    }
   ],
   "source": [
    "from numpy import zeros,ones\n",
    "from matplotlib import pyplot as plt\n",
    "\n",
    "L = 100\n",
    "N = 500\n",
    "\n",
    "walks = zeros([N,L])\n",
    "\n",
    "for i in range(walks.shape[0]):\n",
    "    walks[i] = choice([-1,-1,-1, 1,1,1,1,1],L)\n",
    "\n",
    "dist = zeros(L)\n",
    "for i in range(N):\n",
    "    dist[:] += cumsum(walks[i])[:]**2 / N\n",
    "\n",
    "plt.plot(range(L),dist)\n",
    "plt.show()\n",
    "\n",
    "# It does make sense that remdom walks with a bias would produce curvature in the graph. This is because\n",
    "# over time the walk will inevitably leave 0, which would cause the squared behavior to show up."
   ]
  },
  {
   "cell_type": "markdown",
   "metadata": {},
   "source": [
    "## Self-avoiding Walks (SAWs)\n",
    "Random walks have applications in other areas of science as well. One notable example from the field of biology is protein folding. Proteins are composed of long chains of amino acids and each link in the chain can rotate and stretch. This usually creates a protein that is not long and straight, but rather coiled up with many turns and twists.  We can model the shape of a protein using a random walk.  Each step in the walk corrsponds to a new link in the protein.  But there is one complication: **The protein chain can't fold back onto itself.**  This seemingly harmless modification to our random walk turns out to be quite a challenge.  There are two approaches to constructing self-avoiding walks (SAWs):\n",
    "\n",
    "1. Proceed as we did before, beginning with a 0-length SAW and letting it grow to the desired length.  If you ever encounter a step that causes you to re-visit a previously visited site, you throw the entire random walker out(very important!) and start over again.  This process continues until you have enough SAWs to take averages.  (Some of you will do this for your problem this week)\n",
    "2. The first method is computationally costly because many you will encounter many invalid walkers and have to throw them out. This wastes computing time and results in a longer loop to achieve desired results.  One way around this problem is to simply simply enumerate **all possible SAWs** of length $n$.  The algorithm that does this is called a depth-first tree search algorithm and it comes up repeatedly in computational science.\n",
    "\n",
    "Below you will find a code that enumerates **all** possible SAWs of a given length for a two-dimesional square lattice. It's an implementation of the code outlined in example 7.2 in the book.  Although short in length, the code is quite sophisticated.  \n",
    "\n",
    "1. <span style=\"color:red\"> Execute the code for several lengths and verify that the number of walkers found agrees with table. 7.1 in the book.  </span>\n",
    "2. <span style=\"color:red\"> By comparing the code below to the pseudo code given in example 7.2, determine what each line of code is doing.</span>\n",
    "3. <span style=\"color:red\"> Add comments to help you remember in the future.  </span>\n",
    "4. <span style=\"color:red\"> Plot several walkers to convince yourself that they are all indeed self-avoiding.  </span>\n",
    "\n",
    "\n",
    "\n"
   ]
  },
  {
   "cell_type": "code",
   "execution_count": 19,
   "metadata": {},
   "outputs": [
    {
     "name": "stdout",
     "output_type": "stream",
     "text": [
      "There are 780 SAWs of length 6. Plotting the 135-rd one\n"
     ]
    },
    {
     "data": {
      "image/png": "[encoded data removed]",
      "text/plain": [
       "<Figure size 500x500 with 1 Axes>"
      ]
     },
     "metadata": {},
     "output_type": "display_data"
    }
   ],
   "source": [
    "from numpy import zeros,array,ones,any,all,int8,copy\n",
    "from matplotlib import pyplot as plt\n",
    "\n",
    "sawLength = 6\n",
    "n = sawLength + 1  \n",
    "\n",
    "allsaws = []\n",
    "singlesaw = zeros([n,2])  # this array will store the current walk. completed walks will be added to the allsaws list\n",
    "directions = array([[1, 0], [-1, 0], [0,  1], [0, -1]]) # possible directions\n",
    "\n",
    "searchDirections = zeros(n,dtype = int8) # record the index of the next direction to explore for each step of the walk\n",
    "visited = zeros([n,2]) # list of previously visited sites\n",
    "idx = 0   # tracks which index number of the current path we are looking at\n",
    "sawcount = 0   # counts the number of valid saws for the given sawLength\n",
    "while idx > -1:\n",
    "\n",
    "    if searchDirections[idx] > 3: # if we've looked in all possible directions but none are valid...\n",
    "        visited[idx,:] = [0, 0]   # forget that we went here\n",
    "        idx -= 1   # and return to the previous index (go back a step)\n",
    "    else:\n",
    "# NOT, so this is a continue case   # v the next place     v you were going to explore   v has already been visited\n",
    "        if not any( [ all(singlesaw[idx,:] + directions[searchDirections[idx],:] == visited[i,:]) for i in range(n)]):\n",
    "            # search in the next direction we were planning on searching\n",
    "            singlesaw[idx+1,:] = singlesaw[idx,:] + directions[searchDirections[idx],:]\n",
    "            searchDirections[idx] += 1   # and search somewhere else next time\n",
    "            if idx + 1 == sawLength: # if this next step would be the last...\n",
    "                sawcount += 1   # then add the current saw to the list of completed, legitimate saws\n",
    "                allsaws.append(copy(singlesaw))\n",
    "                continue\n",
    "            else:   # if this next step will NOT be the last one...\n",
    "                idx += 1   # move up,\n",
    "                visited[idx,:] = singlesaw[idx,:]   # mark the previous site as completed,\n",
    "                searchDirections[idx] = 0   # and start the index of our next direction to search out at 0\n",
    "\n",
    "        else:\n",
    "            searchDirections[idx] += 1   # let's plan on searching in NOT a dead-end...\n",
    " \n",
    "\n",
    "# which one do we want to show?\n",
    "whichSawToPlot = 135\n",
    "\n",
    "print(\"There are {} SAWs of length {}. Plotting the {}-rd one\".format(sawcount,sawLength,whichSawToPlot))\n",
    "\n",
    "\n",
    "# plotting\n",
    "fig,ax = plt.subplots(1,1,figsize = (5,5))\n",
    "ax.plot([x[0] for x in allsaws[whichSawToPlot]],[x[1] for x in allsaws[whichSawToPlot]],'r.-')\n",
    "ax.set_xlim(-sawLength, sawLength)\n",
    "ax.set_ylim(-sawLength, sawLength)\n",
    "ax.set_xticks(range(-sawLength, sawLength + 1,1))\n",
    "ax.set_yticks(range(-sawLength, sawLength + 1,1))\n",
    "\n",
    "ax.grid()\n",
    "ax.set_aspect(1)\n",
    "\n",
    "plt.show()\n"
   ]
  },
  {
   "cell_type": "code",
   "execution_count": null,
   "metadata": {},
   "outputs": [],
   "source": []
  }
 ],
 "metadata": {
  "kernelspec": {
   "display_name": "Python 3 (ipykernel)",
   "language": "python",
   "name": "python3"
  },
  "language_info": {
   "codemirror_mode": {
    "name": "ipython",
    "version": 3
   },
   "file_extension": ".py",
   "mimetype": "text/x-python",
   "name": "python",
   "nbconvert_exporter": "python",
   "pygments_lexer": "ipython3",
   "version": "3.9.13"
  }
 },
 "nbformat": 4,
 "nbformat_minor": 4
}
