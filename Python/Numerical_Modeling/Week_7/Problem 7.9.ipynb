{
 "cells": [
  {
   "cell_type": "code",
   "execution_count": 21,
   "id": "f0ca01dc",
   "metadata": {},
   "outputs": [
    {
     "name": "stdout",
     "output_type": "stream",
     "text": [
      "Using matplotlib backend: QtAgg\n"
     ]
    }
   ],
   "source": [
    "%matplotlib\n",
    "\n",
    "from numpy import zeros,arange,array,sqrt\n",
    "from matplotlib import pyplot\n",
    "from math import exp\n",
    "\n",
    "class grid:\n",
    "    def __init__(self,size,bumpSize,height,D,dx,dt,tMax):\n",
    "        # initialize the V array, one dimensional\n",
    "        self.V = zeros(size)\n",
    "        #self.V[45:55] = 1\n",
    "        self.V[(size-bumpSize)//2 + 1 : (size+bumpSize)//2 + 1] = height\n",
    "        \n",
    "        # initialize the horizontal axis array\n",
    "        self.X = arange(0,size*dx,dx)\n",
    "        \n",
    "        # assign the rest of the variables\n",
    "        self.height = height\n",
    "        self.D = D\n",
    "        self.dt = dt\n",
    "        self.dx = dx\n",
    "        self.tMax = tMax\n",
    "        \n",
    "        # if this condition is met, the propogation will be unstable\n",
    "        if self.dt > self.dx**2/(2*self.D):\n",
    "            print('VALUES ARE UNSTABLE!!! D:')\n",
    "    \n",
    "    def animate(self):\n",
    "        t = 0\n",
    "        counter = 0\n",
    "        \n",
    "        # propogate the wave\n",
    "        while t < self.tMax:\n",
    "            if counter == 0:\n",
    "                pyplot.plot(self.X,self.V,'r.-')\n",
    "                pyplot.title(f't = {round(t,5)}')\n",
    "                pyplot.ylim(-self.height,self.height)\n",
    "                pyplot.draw()\n",
    "                pyplot.pause(7)\n",
    "                pyplot.clf()\n",
    "            \n",
    "            self.V[1:-1] += self.D*self.dt/self.dx**2 * (self.V[2:] + self.V[:-2] - 2*self.V[1:-1])\n",
    "            t += self.dt\n",
    "            counter += 1\n",
    "            \n",
    "            # every so often, plot it\n",
    "            if counter % 5 == 0:\n",
    "                pyplot.plot(self.X,self.V,'r.-')\n",
    "                pyplot.title(f't = {round(t,5)}')\n",
    "                pyplot.ylim(-self.height,self.height)\n",
    "                \n",
    "                # even less often, show how it compares against the gaussian distribution\n",
    "                if counter % 30 == 0:\n",
    "                    σ = sqrt(2*self.D*t)\n",
    "                    pyplot.plot(self.X,self.gaussian(self.X,σ))\n",
    "                \n",
    "                pyplot.draw()\n",
    "                pyplot.pause(.000001)\n",
    "                # when the gaussian distribution shows up, pause for longer to compare\n",
    "                if counter % 30 == 0:\n",
    "                    pyplot.pause(1)\n",
    "                pyplot.clf()\n",
    "        \n",
    "        pyplot.close()\n",
    "                  \n",
    "    # compute the gaussian for the given time-dependent sigma and given x-array\n",
    "    def gaussian(self,X,σ):\n",
    "        # the 1.15 factor here is supposed to compensate for the fact that the initial width\n",
    "        # of my wave forces the wave to not be normalized properly\n",
    "        return array([1.15*self.height/σ*exp(-(x-self.V.size//2)**2/(2*σ**2)) for x in X])\n",
    "        \n",
    "        #     size,bumpSize,height,D,dx,dt  ,tMax\n",
    "myGrid = grid(100 ,3       ,1     ,1,1 ,0.1 ,21)\n",
    "myGrid.animate()"
   ]
  },
  {
   "cell_type": "code",
   "execution_count": null,
   "id": "8d418535",
   "metadata": {},
   "outputs": [],
   "source": []
  }
 ],
 "metadata": {
  "kernelspec": {
   "display_name": "Python 3 (ipykernel)",
   "language": "python",
   "name": "python3"
  },
  "language_info": {
   "codemirror_mode": {
    "name": "ipython",
    "version": 3
   },
   "file_extension": ".py",
   "mimetype": "text/x-python",
   "name": "python",
   "nbconvert_exporter": "python",
   "pygments_lexer": "ipython3",
   "version": "3.9.13"
  }
 },
 "nbformat": 4,
 "nbformat_minor": 5
}
